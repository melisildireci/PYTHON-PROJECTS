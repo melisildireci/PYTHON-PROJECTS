{
 "cells": [
  {
   "cell_type": "code",
   "execution_count": 111,
   "metadata": {},
   "outputs": [
    {
     "name": "stdout",
     "output_type": "stream",
     "text": [
      "Son rakamların toplamı: 1208.0\n"
     ]
    }
   ],
   "source": [
    "veri_seti = '''3700 16 6140 140 5 1/2\" 165 5 354,75\n",
    "3700 16 6160 160 6 1/4\" 215 5 402,75\n",
    "3700 16 6180 180 7 1/8\" 225 5 450,50'''\n",
    "\n",
    "son_rakamlar_toplami = sum([float(satir.strip().split()[-1].replace(',', '.')) for satir in veri_seti.split('\\n')])\n",
    "\n",
    "print(\"Son rakamların toplamı:\", son_rakamlar_toplami)\n"
   ]
  },
  {
   "cell_type": "code",
   "execution_count": 110,
   "metadata": {},
   "outputs": [
    {
     "name": "stdout",
     "output_type": "stream",
     "text": [
      "Toplam:  605\n"
     ]
    }
   ],
   "source": [
    "\n",
    "veri_seti = '''3700 16 6140 140 5 1/2\" 165 5 354,75\n",
    "3700 16 6160 160 6 1/4\" 215 5 402,75\n",
    "3700 16 6180 180 7 1/8\" 225 5 450,50'''\n",
    "\n",
    "lines = veri_seti.split(\"\\n\")\n",
    "total = 0\n",
    "for line in lines:\n",
    "    parts = line.split()\n",
    "    third_last_number = parts[-3]\n",
    "    total += int(third_last_number.replace(\",\", \".\"))\n",
    "\n",
    "print(\"Toplam: \", total)\n",
    "\n",
    "\n",
    "\n",
    "\n",
    "\n"
   ]
  },
  {
   "cell_type": "code",
   "execution_count": null,
   "metadata": {},
   "outputs": [],
   "source": []
  }
 ],
 "metadata": {
  "kernelspec": {
   "display_name": "Python 3",
   "language": "python",
   "name": "python3"
  },
  "language_info": {
   "codemirror_mode": {
    "name": "ipython",
    "version": 3
   },
   "file_extension": ".py",
   "mimetype": "text/x-python",
   "name": "python",
   "nbconvert_exporter": "python",
   "pygments_lexer": "ipython3",
   "version": "3.8.3"
  }
 },
 "nbformat": 4,
 "nbformat_minor": 4
}
